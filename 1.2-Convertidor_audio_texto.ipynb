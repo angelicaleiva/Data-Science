{
 "cells": [
  {
   "cell_type": "markdown",
   "metadata": {},
   "source": [
    "# Convertidor de Audio a Texto"
   ]
  },
  {
   "cell_type": "markdown",
   "metadata": {},
   "source": [
    "Importar todas las líbrerias a utilizar"
   ]
  },
  {
   "cell_type": "code",
   "execution_count": null,
   "metadata": {},
   "outputs": [],
   "source": [
    "#Importar librerías\n",
    "import speech_recognition as sr\n",
    "import os\n",
    "from pydub import AudioSegment\n",
    "from tqdm import tqdm\n",
    "from pydub.silence import split_on_silence"
   ]
  },
  {
   "cell_type": "markdown",
   "metadata": {},
   "source": [
    "Convertir audios de una carpeta desde mp3 a wav"
   ]
  },
  {
   "cell_type": "code",
   "execution_count": null,
   "metadata": {},
   "outputs": [],
   "source": [
    "#Directorio con audios\n",
    "path_mp3 = '../data/raw/'\n",
    "path_wav = '../data/interim/''\n",
    "\n",
    "#Cambiar directorio de trabajo\n",
    "os.chdir(path_mp3)\n",
    "\n",
    "#Listado de archivos\n",
    "directorio = os.listdir()\n",
    "\n",
    "#Convertir mp3 a wav\n",
    "for file in tqdm(directorio):\n",
    "    name, ext = os.path.splitext(file)\n",
    "    #Solo para los archivos con extensión mp3\n",
    "    if ext == \".mp3\":    \n",
    "        audio_mp3 = AudioSegment.from_file(file)\n",
    "        audio_mp3.export(path_wav+\"{0}.wav\".format(name), format=\"wav\") \n"
   ]
  },
  {
   "cell_type": "markdown",
   "metadata": {},
   "source": [
    "Convertir todos los audios de una carpeta a textos, utilizando chunks"
   ]
  },
  {
   "cell_type": "code",
   "execution_count": null,
   "metadata": {},
   "outputs": [],
   "source": [
    "#Iniciar reconocedor de voz\n",
    "reconocedor = sr.Recognizer()\n",
    "\n",
    "#Directorio con audios\n",
    "path_wav = './data/interim/'\n",
    "path_textos = './data/processed/'\n",
    "\n",
    "#Cambiar directorio de trabajo\n",
    "os.chdir(path_wav)\n",
    "\n",
    "#Listado de archivos\n",
    "directorio = os.listdir()\n",
    "\n",
    "##Leer archivos wav\n",
    "for file in tqdm(directorio):\n",
    "    name, ext = os.path.splitext(file)\n",
    "    #Solo para los archivos con extensión wav\n",
    "    if ext == \".wav\":    \n",
    "        #Definir archivo de audio\n",
    "        audio_file = AudioSegment.from_file(file)\n",
    "        \n",
    "        # hacer split al audio cuando el silencio sea de más de 700 milisegundos\n",
    "        chunks = split_on_silence(audio_file, min_silence_len = 500, silence_thresh = audio_file.dBFS-14, keep_silence=500)\n",
    "        \n",
    "        carpeta_chunks = \"audio-chunks\"\n",
    "        \n",
    "        # crear directorio para guardar los chunks de audios\n",
    "        if not os.path.isdir(carpeta_chunks):\n",
    "            os.mkdir(carpeta_chunks)\n",
    "        \n",
    "        texto_completo = \"\"\n",
    "        \n",
    "        # procesar cada chunk \n",
    "        for i, audio_chunk in enumerate(chunks, start=1):\n",
    "            # exportar audio chunk y guardarlo en carpeta\n",
    "            archivo_con_chunks = os.path.join(carpeta_chunks, f\"chunk{i}.wav\")\n",
    "            audio_chunk.export(archivo_con_chunks, format=\"wav\")\n",
    "            #Reconocedor de voz\n",
    "            with sr.AudioFile(archivo_con_chunks) as source:\n",
    "                reconocedor.adjust_for_ambient_noise(source) #Se ajusta para eliminar sonido ambiente\n",
    "                audio = reconocedor.record(source) #Se lee el audio\n",
    "                try:\n",
    "                    texto = reconocedor.recognize_google(audio, language='es-CL') #Texto reconocido\n",
    "                    #Exportar resultado a archivo de texto   \n",
    "                except sr.UnknownValueError:\n",
    "                       print(\"No entendí el audio\")\n",
    "                except sr.RequestError as e:\n",
    "                       print(\"No obtuve ningun requerimiento {0}\".format(e))\n",
    "                else:\n",
    "                    texto = f\"{texto.capitalize()}. \"\n",
    "                    texto_completo += texto\n",
    "                    with open(path_textos+\"{0}.txt\".format(name),mode = 'w') as file:\n",
    "                        file.write(texto_completo)\n",
    "                        file.write(\"/n\")\n",
    "        \n"
   ]
  }
 ],
 "metadata": {
  "kernelspec": {
   "display_name": "Python 3",
   "language": "python",
   "name": "python3"
  },
  "language_info": {
   "codemirror_mode": {
    "name": "ipython",
    "version": 3
   },
   "file_extension": ".py",
   "mimetype": "text/x-python",
   "name": "python",
   "nbconvert_exporter": "python",
   "pygments_lexer": "ipython3",
   "version": "3.8.5"
  }
 },
 "nbformat": 4,
 "nbformat_minor": 4
}
