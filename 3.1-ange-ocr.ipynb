{
 "cells": [
  {
   "cell_type": "code",
   "execution_count": null,
   "metadata": {},
   "outputs": [],
   "source": [
    "#Importar librerias\n",
    "import cv2\n",
    "import pytesseract as pt\n",
    "import numpy as np\n",
    "import os\n",
    "from tqdm import tqdm"
   ]
  },
  {
   "cell_type": "code",
   "execution_count": null,
   "metadata": {},
   "outputs": [],
   "source": [
    "#Ruta de tesseract.exe\n",
    "pt.pytesseract.tesseract_cmd = r'C:/Program Files/Tesseract-OCR/tesseract.exe'  #Definir carpeta con ejeutable\n",
    "\n",
    "#Directorio con imagenes\n",
    "os.chdir('./data/raw/')\n",
    "directorio = os.listdir()\n",
    "\n",
    "for file in tqdm(directorio):\n",
    "    name, ext = os.path.splitext(file)\n",
    "    #Solo para los archivos de imagenes más populares\n",
    "    if ext == \".jpg\" or ext == \".png\" or ext == \".tiff\":    \n",
    "        #Lee imagen\n",
    "        img = cv2.imread(file)\n",
    "        #Convertir a escala de grises\n",
    "        gray = cv2.cvtColor(img, cv2.COLOR_RGB2GRAY)\n",
    "        #Binarizar imagen\n",
    "        gray, img_bin = cv2.threshold(gray, 128, 255, cv2.THRESH_BINARY | cv2.THRESH_OTSU)\n",
    "        gray = cv2.bitwise_not(img_bin)\n",
    "        #Definir kernel\n",
    "        kernel = np.ones((2,1), np.uint8)\n",
    "        #Erosionar\n",
    "        img = cv2.erode(gray, kernel, iterations=1)\n",
    "        #Dilatar\n",
    "        img = cv2.dilate(img, kernel, iterations=1)\n",
    "        #Salida\n",
    "        output = pt.image_to_string(img)\n",
    "        #guardar texto\n",
    "        with open(\"../data/processed/\"+\"{0}.txt\".format(name),mode = 'w') as file:\n",
    "             file.write(output)\n"
   ]
  }
 ],
 "metadata": {
  "kernelspec": {
   "display_name": "Python 3",
   "language": "python",
   "name": "python3"
  },
  "language_info": {
   "codemirror_mode": {
    "name": "ipython",
    "version": 3
   },
   "file_extension": ".py",
   "mimetype": "text/x-python",
   "name": "python",
   "nbconvert_exporter": "python",
   "pygments_lexer": "ipython3",
   "version": "3.8.5"
  }
 },
 "nbformat": 4,
 "nbformat_minor": 4
}
