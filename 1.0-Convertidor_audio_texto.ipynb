{
 "cells": [
  {
   "cell_type": "markdown",
   "metadata": {},
   "source": [
    "# Convertidor de Audio a Texto"
   ]
  },
  {
   "cell_type": "markdown",
   "metadata": {},
   "source": [
    "Importar todas las líbrerias a utilizar"
   ]
  },
  {
   "cell_type": "code",
   "execution_count": null,
   "metadata": {},
   "outputs": [],
   "source": [
    "#Importar librerías\n",
    "import speech_recognition as sr\n",
    "import os\n",
    "from pydub import AudioSegment\n",
    "from pydub.silence import split_on_silence"
   ]
  },
  {
   "cell_type": "markdown",
   "metadata": {},
   "source": [
    "Convertir audios de una carpeta desde mp3 a wav"
   ]
  },
  {
   "cell_type": "code",
   "execution_count": null,
   "metadata": {},
   "outputs": [],
   "source": [
    "#Directorio con audios\n",
    "path_mp3 = \"C:/Users/angel/Capstone/data/raw/\"\n",
    "path_wav = \"C:/Users/angel/Capstone/data/interim/\"\n",
    "\n",
    "#Cambiar directorio de trabajo\n",
    "os.chdir(path_mp3)\n",
    "\n",
    "#Listado de archivos\n",
    "directorio = os.listdir()\n",
    "\n",
    "#Convertir mp3 a wav\n",
    "for file in directorio:\n",
    "    name, ext = os.path.splitext(file)\n",
    "    #Solo para los archivos con extensión mp3\n",
    "    if ext == \".mp3\":    \n",
    "        audio_mp3 = AudioSegment.from_file(file)\n",
    "        audio_mp3.export(path_wav+\"{0}.wav\".format(name), format=\"wav\") \n",
    "print(\"listo\")"
   ]
  },
  {
   "cell_type": "markdown",
   "metadata": {},
   "source": [
    "Convertir todos los audios de una carpeta a textos, utilizando chunks"
   ]
  },
  {
   "cell_type": "code",
   "execution_count": null,
   "metadata": {},
   "outputs": [],
   "source": [
    "#Iniciar reconocedor de voz\n",
    "reconocedor = sr.Recognizer()\n",
    "\n",
    "#Directorio con audios\n",
    "path_wav = \"C:/Users/angel/Capstone/data/interim/\"\n",
    "path_textos = \"C:/Users/angel/Capstone/data/processed/\"\n",
    "\n",
    "#Cambiar directorio de trabajo\n",
    "os.chdir(path_wav)\n",
    "\n",
    "#Listado de archivos\n",
    "directorio = os.listdir()\n",
    "\n",
    "#Leer archivos wav\n",
    "for file in directorio:\n",
    "    name, ext = os.path.splitext(file)\n",
    "    #Solo para los archivos con extensión wav\n",
    "    if ext == \".wav\":    \n",
    "    #Definir archivo de audio\n",
    "        audio_file = sr.AudioFile(file)\n",
    "        #Reconocedor de voz\n",
    "        with audio_file as source:\n",
    "            reconocedor.adjust_for_ambient_noise(source) #Se ajusta para eliminar sonido ambiente\n",
    "            audio = reconocedor.listen(source) #Se lee el audio\n",
    "        try:\n",
    "            texto = reconocedor.recognize_google(audio, language='es-CL') #Texto reconocido\n",
    "            #Exportar resultado a archivo de texto   \n",
    "            with open(path_textos+\"{0}.txt\".format(name),mode = 'w') as file:\n",
    "                file.write(\"Texto reconocido:\")\n",
    "                file.write(\"/n\")\n",
    "                file.write(texto)\n",
    "        except sr.UnknownValueError:\n",
    "               print(\"No entendí el audio\")\n",
    "        except sr.RequestError as e:\n",
    "               print(\"No obtuve ningun requerimiento {0}\".format(e))             \n",
    "print(\"listo\")"
   ]
  }
 ],
 "metadata": {
  "kernelspec": {
   "display_name": "Python 3",
   "language": "python",
   "name": "python3"
  },
  "language_info": {
   "codemirror_mode": {
    "name": "ipython",
    "version": 3
   },
   "file_extension": ".py",
   "mimetype": "text/x-python",
   "name": "python",
   "nbconvert_exporter": "python",
   "pygments_lexer": "ipython3",
   "version": "3.7.7"
  }
 },
 "nbformat": 4,
 "nbformat_minor": 4
}
